{
 "cells": [
  {
   "cell_type": "code",
   "execution_count": 1,
   "id": "4cad888d",
   "metadata": {},
   "outputs": [],
   "source": [
    "#we need name, phone no, and email address for the program\n",
    "dict={}"
   ]
  },
  {
   "cell_type": "code",
   "execution_count": 13,
   "id": "c8002b7f",
   "metadata": {},
   "outputs": [],
   "source": [
    "def addContact(name,phoneno,emailaddress):\n",
    "    dict[name]=[name,phoneno,emailaddress]\n",
    "    "
   ]
  },
  {
   "cell_type": "code",
   "execution_count": 14,
   "id": "17585cde",
   "metadata": {},
   "outputs": [],
   "source": [
    "def updateinfo(name,phoneno,emailaddress):\n",
    "    dict[name]=[name,phoneno,emailaddress]\n",
    "    "
   ]
  },
  {
   "cell_type": "code",
   "execution_count": 85,
   "id": "345a30d6",
   "metadata": {},
   "outputs": [],
   "source": [
    "def deletecontact(name):\n",
    "    for key in dict:\n",
    "          if(key==name):\n",
    "                dict.pop(key)"
   ]
  },
  {
   "cell_type": "code",
   "execution_count": 86,
   "id": "2530ab8b",
   "metadata": {},
   "outputs": [],
   "source": [
    "def displaycontact():\n",
    "    for y in dict:\n",
    "        print(y,dict[y])\n",
    "    "
   ]
  },
  {
   "cell_type": "code",
   "execution_count": 87,
   "id": "91a50e2c",
   "metadata": {},
   "outputs": [
    {
     "name": "stdout",
     "output_type": "stream",
     "text": [
      "arya ['arya', 9546464641, 'at@gmail.com']\n",
      "nishant ['nishant', 1234567890, 'nd@gmail.com']\n",
      "sajal ['sajal', 2345678901, 'sg@gmail.com']\n",
      "david ['david', 3456789120, 'ds@gmail.com']\n",
      "shiva ['shiva', 4566547891, 'sa@gmail.com']\n",
      "anthony ['anthony', 7458963215, 'ag@gmail.com']\n",
      "aman ['aman', 1478523697, '']\n"
     ]
    }
   ],
   "source": [
    "addContact('arya',9546464641,'at@gmail.com')\n",
    "addContact('nishant',1234567890,'nd@gmail.com')\n",
    "addContact('sajal',2345678901,'sg@gmail.com')\n",
    "addContact('david',3456789120,'ds@gmail.com')\n",
    "addContact('shiva',4566547891,'sa@gmail.com')\n",
    "addContact('anthony',7458963215,'ag@gmail.com')\n",
    "addContact('aman',1478523697,'')\n",
    "displaycontact()"
   ]
  },
  {
   "cell_type": "code",
   "execution_count": 88,
   "id": "b3622a6c",
   "metadata": {},
   "outputs": [
    {
     "name": "stdout",
     "output_type": "stream",
     "text": [
      "arya ['arya', 9999900001, 'yolo@yahoo.com']\n",
      "nishant ['nishant', 1234567890, 'nd@gmail.com']\n",
      "sajal ['sajal', 2345678901, 'sg@gmail.com']\n",
      "david ['david', 3456789120, 'ds@gmail.com']\n",
      "shiva ['shiva', 4566547891, 'sa@gmail.com']\n",
      "anthony ['anthony', 7458963215, 'ag@gmail.com']\n",
      "aman ['aman', 1478523697, '']\n"
     ]
    }
   ],
   "source": [
    "updateinfo('arya',9999900001,'yolo@yahoo.com')\n",
    "displaycontact()"
   ]
  },
  {
   "cell_type": "code",
   "execution_count": 90,
   "id": "1ee79c85",
   "metadata": {},
   "outputs": [
    {
     "name": "stdout",
     "output_type": "stream",
     "text": [
      "arya ['arya', 9999900001, 'yolo@yahoo.com']\n",
      "sajal ['sajal', 2345678901, 'sg@gmail.com']\n",
      "david ['david', 3456789120, 'ds@gmail.com']\n",
      "shiva ['shiva', 4566547891, 'sa@gmail.com']\n",
      "anthony ['anthony', 7458963215, 'ag@gmail.com']\n",
      "aman ['aman', 1478523697, '']\n"
     ]
    }
   ],
   "source": [
    "deletecontact('nishant')\n",
    "displaycontact()"
   ]
  },
  {
   "cell_type": "code",
   "execution_count": 63,
   "id": "40324ca3",
   "metadata": {},
   "outputs": [
    {
     "ename": "SyntaxError",
     "evalue": "incomplete input (1643645025.py, line 1)",
     "output_type": "error",
     "traceback": [
      "\u001b[1;36m  Cell \u001b[1;32mIn[63], line 1\u001b[1;36m\u001b[0m\n\u001b[1;33m    def searchcontact():\u001b[0m\n\u001b[1;37m                        ^\u001b[0m\n\u001b[1;31mSyntaxError\u001b[0m\u001b[1;31m:\u001b[0m incomplete input\n"
     ]
    }
   ],
   "source": [
    "def searchcontact():"
   ]
  },
  {
   "cell_type": "code",
   "execution_count": 92,
   "id": "88d7d2c5",
   "metadata": {},
   "outputs": [],
   "source": [
    "def searchintial(name_char):\n",
    "    for m in dict:\n",
    "        if(m[0]==name_char):\n",
    "            print(m,dict[m])\n",
    "        "
   ]
  },
  {
   "cell_type": "code",
   "execution_count": 93,
   "id": "a8e506eb",
   "metadata": {},
   "outputs": [
    {
     "name": "stdout",
     "output_type": "stream",
     "text": [
      "sajal ['sajal', 2345678901, 'sg@gmail.com']\n",
      "shiva ['shiva', 4566547891, 'sa@gmail.com']\n"
     ]
    }
   ],
   "source": [
    "searchintial('s')"
   ]
  },
  {
   "cell_type": "code",
   "execution_count": null,
   "id": "7997d77f",
   "metadata": {},
   "outputs": [],
   "source": []
  }
 ],
 "metadata": {
  "kernelspec": {
   "display_name": "Python 3 (ipykernel)",
   "language": "python",
   "name": "python3"
  },
  "language_info": {
   "codemirror_mode": {
    "name": "ipython",
    "version": 3
   },
   "file_extension": ".py",
   "mimetype": "text/x-python",
   "name": "python",
   "nbconvert_exporter": "python",
   "pygments_lexer": "ipython3",
   "version": "3.11.5"
  }
 },
 "nbformat": 4,
 "nbformat_minor": 5
}
